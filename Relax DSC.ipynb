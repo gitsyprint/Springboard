{
 "cells": [
  {
   "cell_type": "code",
   "execution_count": 3,
   "id": "1779fa39-744a-481e-8bc3-fe01b7f2d76b",
   "metadata": {},
   "outputs": [
    {
     "name": "stdout",
     "output_type": "stream",
     "text": [
      "(12000, 10)\n",
      "(207917, 3)\n"
     ]
    },
    {
     "data": {
      "text/html": [
       "<div>\n",
       "<style scoped>\n",
       "    .dataframe tbody tr th:only-of-type {\n",
       "        vertical-align: middle;\n",
       "    }\n",
       "\n",
       "    .dataframe tbody tr th {\n",
       "        vertical-align: top;\n",
       "    }\n",
       "\n",
       "    .dataframe thead th {\n",
       "        text-align: right;\n",
       "    }\n",
       "</style>\n",
       "<table border=\"1\" class=\"dataframe\">\n",
       "  <thead>\n",
       "    <tr style=\"text-align: right;\">\n",
       "      <th></th>\n",
       "      <th>time_stamp</th>\n",
       "      <th>user_id</th>\n",
       "      <th>visited</th>\n",
       "    </tr>\n",
       "  </thead>\n",
       "  <tbody>\n",
       "    <tr>\n",
       "      <th>0</th>\n",
       "      <td>2014-04-22 03:53:30</td>\n",
       "      <td>1</td>\n",
       "      <td>1</td>\n",
       "    </tr>\n",
       "    <tr>\n",
       "      <th>1</th>\n",
       "      <td>2013-11-15 03:45:04</td>\n",
       "      <td>2</td>\n",
       "      <td>1</td>\n",
       "    </tr>\n",
       "    <tr>\n",
       "      <th>2</th>\n",
       "      <td>2013-11-29 03:45:04</td>\n",
       "      <td>2</td>\n",
       "      <td>1</td>\n",
       "    </tr>\n",
       "    <tr>\n",
       "      <th>3</th>\n",
       "      <td>2013-12-09 03:45:04</td>\n",
       "      <td>2</td>\n",
       "      <td>1</td>\n",
       "    </tr>\n",
       "    <tr>\n",
       "      <th>4</th>\n",
       "      <td>2013-12-25 03:45:04</td>\n",
       "      <td>2</td>\n",
       "      <td>1</td>\n",
       "    </tr>\n",
       "  </tbody>\n",
       "</table>\n",
       "</div>"
      ],
      "text/plain": [
       "            time_stamp  user_id  visited\n",
       "0  2014-04-22 03:53:30        1        1\n",
       "1  2013-11-15 03:45:04        2        1\n",
       "2  2013-11-29 03:45:04        2        1\n",
       "3  2013-12-09 03:45:04        2        1\n",
       "4  2013-12-25 03:45:04        2        1"
      ]
     },
     "execution_count": 3,
     "metadata": {},
     "output_type": "execute_result"
    }
   ],
   "source": [
    "import pandas as pd\n",
    "\n",
    "# Load the CSVs\n",
    "import pandas as pd\n",
    "\n",
    "users = pd.read_csv('/Users/cicisofia/Downloads/takehome_users.csv', encoding='latin1')\n",
    "engagement = pd.read_csv('/Users/cicisofia/Downloads/takehome_user_engagement.csv')\n",
    "\n",
    "\n",
    "# Check the basic structure\n",
    "print(users.shape)\n",
    "print(engagement.shape)\n",
    "users.head()\n",
    "engagement.head()\n"
   ]
  },
  {
   "cell_type": "code",
   "execution_count": 7,
   "id": "97cb3918-c003-4b45-ace2-3b5ade8164e9",
   "metadata": {},
   "outputs": [
    {
     "data": {
      "text/plain": [
       "adopted\n",
       "0    10344\n",
       "1     1656\n",
       "Name: count, dtype: int64"
      ]
     },
     "execution_count": 7,
     "metadata": {},
     "output_type": "execute_result"
    }
   ],
   "source": [
    "# Make sure timestamp is datetime\n",
    "engagement['time_stamp'] = pd.to_datetime(engagement['time_stamp'])\n",
    "\n",
    "# Create an adopted user set\n",
    "adopted_user_ids = set()\n",
    "\n",
    "# Group by user\n",
    "user_groups = engagement.groupby('user_id')['time_stamp'].apply(list)\n",
    "\n",
    "for user_id, dates in user_groups.items():\n",
    "    dates = sorted(dates)\n",
    "    for i in range(len(dates) - 2):\n",
    "        # Check if 3 logins in 7-day window\n",
    "        if (dates[i+2] - dates[i]).days <= 7:\n",
    "            adopted_user_ids.add(user_id)\n",
    "            break\n",
    "\n",
    "# Add a new column to users dataframe\n",
    "users['adopted'] = users['object_id'].isin(adopted_user_ids).astype(int)\n",
    "\n",
    "# Check balance\n",
    "users['adopted'].value_counts()\n"
   ]
  },
  {
   "cell_type": "code",
   "execution_count": 11,
   "id": "3e648943-9397-40f7-9a44-ac0c7289102e",
   "metadata": {},
   "outputs": [
    {
     "name": "stdout",
     "output_type": "stream",
     "text": [
      "              precision    recall  f1-score   support\n",
      "\n",
      "           0       0.86      0.92      0.89      2063\n",
      "           1       0.18      0.11      0.13       337\n",
      "\n",
      "    accuracy                           0.81      2400\n",
      "   macro avg       0.52      0.51      0.51      2400\n",
      "weighted avg       0.77      0.81      0.78      2400\n",
      "\n"
     ]
    }
   ],
   "source": [
    "# Clean and convert datatypes\n",
    "users['creation_time'] = pd.to_datetime(users['creation_time'])\n",
    "users['last_session_creation_time'] = pd.to_datetime(users['last_session_creation_time'], unit='s', errors='coerce')\n",
    "\n",
    "# Time active (how long they’ve existed)\n",
    "users['days_since_creation'] = (pd.Timestamp.now() - users['creation_time']).dt.days\n",
    "\n",
    "# Invited or not\n",
    "users['was_invited'] = users['invited_by_user_id'].notnull().astype(int)\n",
    "\n",
    "# Encode creation source\n",
    "users['creation_source_code'] = users['creation_source'].astype('category').cat.codes\n",
    "\n",
    "# Select features\n",
    "features = [\n",
    "    'opted_in_to_mailing_list',\n",
    "    'enabled_for_marketing_drip',\n",
    "    'was_invited',\n",
    "    'creation_source_code',\n",
    "    'days_since_creation'\n",
    "]\n",
    "\n",
    "X = users[features]\n",
    "y = users['adopted']\n",
    "\n",
    "from sklearn.model_selection import train_test_split\n",
    "from sklearn.ensemble import RandomForestClassifier\n",
    "from sklearn.metrics import classification_report\n",
    "\n",
    "# Train/test split\n",
    "X_train, X_test, y_train, y_test = train_test_split(X, y, test_size=0.2, random_state=42)\n",
    "\n",
    "# Model (can change to logistic regression if you want interpretability)\n",
    "model = RandomForestClassifier(n_estimators=100, random_state=42)\n",
    "model.fit(X_train, y_train)\n",
    "\n",
    "# Predict + report\n",
    "y_pred = model.predict(X_test)\n",
    "print(classification_report(y_test, y_pred))\n"
   ]
  },
  {
   "cell_type": "code",
   "execution_count": 13,
   "id": "c92ff986-01d7-46be-be10-91e2384a9e4f",
   "metadata": {},
   "outputs": [
    {
     "data": {
      "image/png": "[encoded data removed]",
      "text/plain": [
       "<Figure size 640x480 with 1 Axes>"
      ]
     },
     "metadata": {},
     "output_type": "display_data"
    }
   ],
   "source": [
    "import matplotlib.pyplot as plt\n",
    "\n",
    "# Show which features were most predictive\n",
    "importances = pd.Series(model.feature_importances_, index=features)\n",
    "importances.sort_values().plot(kind='barh')\n",
    "plt.title(\"Feature Importance (Random Forest)\")\n",
    "plt.xlabel(\"Importance Score\")\n",
    "plt.ylabel(\"Feature\")\n",
    "plt.tight_layout()\n",
    "plt.show()\n"
   ]
  },
  {
   "cell_type": "code",
   "execution_count": 21,
   "id": "675e65f5-bac1-437d-bacf-677c755d5eca",
   "metadata": {},
   "outputs": [
    {
     "name": "stdout",
     "output_type": "stream",
     "text": [
      "              precision    recall  f1-score   support\n",
      "\n",
      "           0       0.86      0.82      0.84      2063\n",
      "           1       0.16      0.21      0.18       337\n",
      "\n",
      "    accuracy                           0.74      2400\n",
      "   macro avg       0.51      0.52      0.51      2400\n",
      "weighted avg       0.77      0.74      0.75      2400\n",
      "\n"
     ]
    }
   ],
   "source": [
    "\n",
    "# Split the ORIGINAL data\n",
    "X_train, X_test, y_train, y_test = train_test_split(X, y, test_size=0.2, random_state=42)\n",
    "\n",
    "# Train balanced model\n",
    "model = RandomForestClassifier(n_estimators=100, class_weight='balanced', random_state=42)\n",
    "model.fit(X_train, y_train)\n",
    "\n",
    "# Evaluate\n",
    "y_pred = model.predict(X_test)\n",
    "print(classification_report(y_test, y_pred))\n"
   ]
  },
  {
   "cell_type": "code",
   "execution_count": 23,
   "id": "90a46595-f735-4146-bf68-d873a7876205",
   "metadata": {},
   "outputs": [
    {
     "data": {
      "image/png": "[encoded data removed]",
      "text/plain": [
       "<Figure size 640x480 with 1 Axes>"
      ]
     },
     "metadata": {},
     "output_type": "display_data"
    }
   ],
   "source": [
    "\n",
    "from sklearn.linear_model import LogisticRegression\n",
    "\n",
    "log_reg = LogisticRegression(class_weight='balanced', max_iter=1000)\n",
    "log_reg.fit(X_train, y_train)\n",
    "\n",
    "# Coefficients = feature influence\n",
    "coef_df = pd.Series(log_reg.coef_[0], index=X.columns)\n",
    "coef_df.sort_values().plot(kind='barh')\n",
    "plt.title('Logistic Regression Coefficients')\n",
    "plt.show()\n"
   ]
  },
  {
   "cell_type": "code",
   "execution_count": 37,
   "id": "e9293461-e7e8-4e05-9504-3e4d97632073",
   "metadata": {},
   "outputs": [],
   "source": [
    "# -------------------------------------------------------------\n",
    "# BRIEF WRITEUP OF FINDINGS — USER ADOPTION ANALYSIS\n",
    "# -------------------------------------------------------------\n",
    "\n",
    "# GOAL:\n",
    "# Identify which user attributes predict whether a user will become an \"adopted user\",\n",
    "# defined as someone who logged in on three separate days within a single seven-day period.\n",
    "\n",
    "# DATA USED:\n",
    "# - takehome_users.csv (user metadata, 12,000 users)\n",
    "# - takehome_user_engagement.csv (raw engagement logs, 207,917 records)\n",
    "\n",
    "# STEP 1: DEFINE ADOPTED USERS\n",
    "# - Grouped login events by user and checked for any rolling 7-day window\n",
    "#   with 3 distinct login dates.\n",
    "# - Created binary label 'adopted' (1 = adopted, 0 = not adopted)\n",
    "# - 1,656 users were labeled as adopted.\n",
    "\n",
    "# STEP 2: FEATURE ENGINEERING\n",
    "# From takehome_users.csv, generated:\n",
    "# - creation_source_code: Encoded source of signup (website, invite, Google, etc.)\n",
    "# - was_invited: Binary flag if user was invited by another\n",
    "# - opted_in_to_mailing_list: Binary\n",
    "# - enabled_for_marketing_drip: Binary\n",
    "# - days_since_creation: Time between account creation and current date\n",
    "\n",
    "# STEP 3: MODELING APPROACHES\n",
    "# - Ran both Logistic Regression (for interpretability)\n",
    "#   and Random Forest (for performance and feature importance).\n",
    "# - Used class_weight='balanced' due to adoption class imbalance (~14% adopted).\n",
    "# - Evaluated models using precision, recall, and F1-score on class 1 (adopted users).\n",
    "\n",
    "# STEP 4: INSIGHTS\n",
    "# - Logistic Regression: 'was_invited' was the strongest positive predictor of adoption.\n",
    "# - Random Forest: 'days_since_creation' dominated importance, likely due to \n",
    "#   older users having more time to meet the adoption criteria (passive time effect).\n",
    "# - Marketing indicators and signup source showed small positive effects.\n",
    "\n",
    "# STEP 5: FACTORS CONSIDERED BUT NOT USED\n",
    "# - org_id: Considered but excluded due to lack of org-level engagement features.\n",
    "# - invited_by_user_id (raw): Converted to 'was_invited' binary flag instead.\n",
    "# - last_session_creation_time: Excluded due to potential leakage\n",
    "#   (wouldn’t be known at time of signup).\n",
    "\n",
    "# STEP 6: FURTHER RESEARCH RECOMMENDATIONS\n",
    "# - Add early-product behavior (e.g. features clicked, team activity) to model short-term adoption\n",
    "# - Analyze adoption trends at the org level (e.g. do active orgs boost user retention?)\n",
    "# - Explore time-aware modeling: predict adoption based on first 7 days of data only\n",
    "\n",
    "# FINAL SUMMARY:\n",
    "# The clearest actionable signal was that being invited by another user significantly increases \n",
    "# likelihood of adoption. Creation source and marketing engagement also help, while passive \n",
    "# features like account age can bias predictive models if not handled carefully.\n",
    "\n",
    "\n"
   ]
  },
  {
   "cell_type": "code",
   "execution_count": null,
   "id": "88da9205-a911-427c-9df6-5754e6be278e",
   "metadata": {},
   "outputs": [],
   "source": []
  }
 ],
 "metadata": {
  "kernelspec": {
   "display_name": "Python 3 (ipykernel)",
   "language": "python",
   "name": "python3"
  },
  "language_info": {
   "codemirror_mode": {
    "name": "ipython",
    "version": 3
   },
   "file_extension": ".py",
   "mimetype": "text/x-python",
   "name": "python",
   "nbconvert_exporter": "python",
   "pygments_lexer": "ipython3",
   "version": "3.11.7"
  }
 },
 "nbformat": 4,
 "nbformat_minor": 5
}
